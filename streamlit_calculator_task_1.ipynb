{
  "nbformat": 4,
  "nbformat_minor": 0,
  "metadata": {
    "colab": {
      "provenance": [],
      "authorship_tag": "ABX9TyMapEUmukm/jGedZVRYkB1p",
      "include_colab_link": true
    },
    "kernelspec": {
      "name": "python3",
      "display_name": "Python 3"
    },
    "language_info": {
      "name": "python"
    }
  },
  "cells": [
    {
      "cell_type": "markdown",
      "metadata": {
        "id": "view-in-github",
        "colab_type": "text"
      },
      "source": [
        "<a href=\"https://colab.research.google.com/github/sehrish-mumtaz/simple-calculator-for-task/blob/main/streamlit_calculator_task_1.ipynb\" target=\"_parent\"><img src=\"https://colab.research.google.com/assets/colab-badge.svg\" alt=\"Open In Colab\"/></a>"
      ]
    },
    {
      "cell_type": "code",
      "source": [
        "import streamlit as st\n",
        "\n",
        "# Define functions for basic operations\n",
        "def add(x, y):\n",
        "    return x + y\n",
        "\n",
        "def subtract(x, y):\n",
        "    return x - y\n",
        "\n",
        "def multiply(x, y):\n",
        "    return x * y\n",
        "\n",
        "def divide(x, y):\n",
        "    if y != 0:\n",
        "        return x / y\n",
        "    else:\n",
        "        return \"Error! Division by zero.\"\n",
        "\n",
        "# Title of the app\n",
        "st.title(\"Simple Calculator\")\n",
        "\n",
        "# Dropdown menu for selecting the operation\n",
        "operation = st.selectbox(\"Choose an operation:\", (\"Add\", \"Subtract\", \"Multiply\", \"Divide\"))\n",
        "\n",
        "# Input fields for the two numbers\n",
        "num1 = st.number_input(\"Enter the first number:\")\n",
        "num2 = st.number_input(\"Enter the second number:\")\n",
        "\n",
        "# Perform the selected operation\n",
        "if st.button(\"Calculate\"):\n",
        "    if operation == \"Add\":\n",
        "        result = add(num1, num2)\n",
        "        st.success(f\"The result is: {result}\")\n",
        "    elif operation == \"Subtract\":\n",
        "        result = subtract(num1, num2)\n",
        "        st.success(f\"The result is: {result}\")\n",
        "    elif operation == \"Multiply\":\n",
        "        result = multiply(num1, num2)\n",
        "        st.success(f\"The result is: {result}\")\n",
        "    elif operation == \"Divide\":\n",
        "        result = divide(num1, num2)\n",
        "        st.success(f\"The result is: {result}\")\n"
      ],
      "metadata": {
        "id": "7Jo5gcWMaG6y"
      },
      "execution_count": null,
      "outputs": []
    }
  ]
}